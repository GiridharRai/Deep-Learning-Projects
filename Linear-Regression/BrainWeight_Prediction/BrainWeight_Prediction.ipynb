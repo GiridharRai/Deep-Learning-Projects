{
 "cells": [
  {
   "cell_type": "markdown",
   "metadata": {},
   "source": [
    "# Brain Weight Prediction\n",
    "In this project, we'll build a linear regression model to see the correlation between the body weight and brain weight in case of mammals. At the end, we'll try to predict the average brain weight of a Kangaroo through our trained model and see how preprocessing the training data results in much accurate predictions.\n",
    "## About the Data\n",
    "The data has been compiled into the file 'brain_body.txt' from [Body and Brain Weights](http://mste.illinois.edu/malcz/DATA/BIOLOGY/Animals.html) & [QELP Data Set 017](http://mste.illinois.edu/malcz/DATA/BIOLOGY/Animals.html)\n",
    "\n",
    "## Import Libraries\n",
    "We'll use pandas for importing our body-brain-weight data present in 'brain_body.txt'. The model will be build using the scikit-learn machine learning library. Eventually, we'll be visualizing our results with the matplotlib."
   ]
  },
  {
   "cell_type": "code",
   "execution_count": 35,
   "metadata": {},
   "outputs": [],
   "source": [
    "import pandas as pd\n",
    "from sklearn import linear_model\n",
    "import matplotlib.pyplot as plt"
   ]
  },
  {
   "cell_type": "markdown",
   "metadata": {},
   "source": [
    "## Read Data\n",
    "Read the data present as two constantly spaced columns labeled 'Body' and 'Brain'. Body weight is in kg whereas the Brain weight is in g. The data is imported in pandas dataframe object."
   ]
  },
  {
   "cell_type": "code",
   "execution_count": 36,
   "metadata": {
    "collapsed": true
   },
   "outputs": [],
   "source": [
    "dataframe = pd.read_fwf('brain_body.txt')\n",
    "x_values = dataframe[['Body']]\n",
    "y_values = dataframe[['Brain']]"
   ]
  },
  {
   "cell_type": "markdown",
   "metadata": {},
   "source": [
    "## Build & Train Model\n",
    "Let's build our model. Since we are finding the linear relationship between body weights(independent variable) & brain weights(dependent variable), we'll be making a Linear Regression model. The 'fit' statement below trains the model on our data and finds the line which depicts the best relationship between body & brain weights."
   ]
  },
  {
   "cell_type": "code",
   "execution_count": 37,
   "metadata": {},
   "outputs": [
    {
     "data": {
      "text/plain": [
       "LinearRegression(copy_X=True, fit_intercept=True, n_jobs=1, normalize=False)"
      ]
     },
     "execution_count": 37,
     "metadata": {},
     "output_type": "execute_result"
    }
   ],
   "source": [
    "reg = linear_model.LinearRegression()\n",
    "reg.fit(x_values, y_values)"
   ]
  },
  {
   "cell_type": "markdown",
   "metadata": {},
   "source": [
    "## Visualize Results\n",
    "Lets visualize our results. The first statment below plots the imported data on the graph. The next statement plots a line going through the predicts made by the model. Notice that the 'predict' statement has been used on the model object to predict brain weights for our body weight(x_values) data. The entire plot can be seen using show() statement."
   ]
  },
  {
   "cell_type": "code",
   "execution_count": 38,
   "metadata": {},
   "outputs": [
    {
     "data": {
      "image/png": "[encoded data removed]",
      "text/plain": [
       "<matplotlib.figure.Figure at 0x7fba87711ba8>"
      ]
     },
     "metadata": {},
     "output_type": "display_data"
    }
   ],
   "source": [
    "plt.scatter(x_values, y_values)\n",
    "plt.plot(x_values, reg.predict(x_values))\n",
    "plt.show()"
   ]
  },
  {
   "cell_type": "markdown",
   "metadata": {},
   "source": [
    "As can be seen from the above graph, the model has tried to place a line which it finds best fits the data. A few outliers can be clearly seen(e.g. human brain with 62Kg body weight & 1320g brain weight) poorly fit this linear model."
   ]
  },
  {
   "cell_type": "markdown",
   "metadata": {},
   "source": [
    "## Test Model\n",
    "Lets try to predict the brain weight of a Kangaroo through our trained model. The average brain weight of a Kangaroo is 56g with 35Kg body weight."
   ]
  },
  {
   "cell_type": "code",
   "execution_count": 39,
   "metadata": {},
   "outputs": [
    {
     "data": {
      "text/plain": [
       "array([[ 125.99886004]])"
      ]
     },
     "execution_count": 39,
     "metadata": {},
     "output_type": "execute_result"
    }
   ],
   "source": [
    "reg.predict(35)"
   ]
  },
  {
   "cell_type": "markdown",
   "metadata": {},
   "source": [
    "The result is way off our expected brain weight of 56g."
   ]
  },
  {
   "cell_type": "markdown",
   "metadata": {},
   "source": [
    "## Data Preprocessing\n",
    "As we saw above, the model is poorly modelling the relationship between body weight & brain weights. It happens because the model is trying to accomodate the outliers along with the other data points, resulting in an inaccurate overall relationship. Hence, it's important that the data be preprocessed(e.g. outliers removed) before being fed into the model to obtain more accurate results.\n",
    "\n",
    "Lets' remove the outliers(done in 'brain_body_preprocessed.txt'), retrain the model and see the results."
   ]
  },
  {
   "cell_type": "code",
   "execution_count": 40,
   "metadata": {},
   "outputs": [
    {
     "data": {
      "image/png": "[encoded data removed]",
      "text/plain": [
       "<matplotlib.figure.Figure at 0x7fba875cc470>"
      ]
     },
     "metadata": {},
     "output_type": "display_data"
    }
   ],
   "source": [
    "dataframe = pd.read_fwf('brain_body_preprocessed.txt')\n",
    "x_values = dataframe[['Body']]\n",
    "y_values = dataframe[['Brain']]\n",
    "reg = linear_model.LinearRegression()\n",
    "reg.fit(x_values, y_values)\n",
    "plt.scatter(x_values, y_values)\n",
    "plt.plot(x_values, reg.predict(x_values))\n",
    "plt.show()"
   ]
  },
  {
   "cell_type": "code",
   "execution_count": 41,
   "metadata": {},
   "outputs": [
    {
     "data": {
      "text/plain": [
       "array([[ 79.98344211]])"
      ]
     },
     "execution_count": 41,
     "metadata": {},
     "output_type": "execute_result"
    }
   ],
   "source": [
    "reg.predict(35)"
   ]
  },
  {
   "cell_type": "markdown",
   "metadata": {},
   "source": [
    "The result is clearly more accurate this time."
   ]
  }
 ],
 "metadata": {
  "kernelspec": {
   "display_name": "Python 3",
   "language": "python",
   "name": "python3"
  },
  "language_info": {
   "codemirror_mode": {
    "name": "ipython",
    "version": 3
   },
   "file_extension": ".py",
   "mimetype": "text/x-python",
   "name": "python",
   "nbconvert_exporter": "python",
   "pygments_lexer": "ipython3",
   "version": "3.6.1"
  }
 },
 "nbformat": 4,
 "nbformat_minor": 2
}
